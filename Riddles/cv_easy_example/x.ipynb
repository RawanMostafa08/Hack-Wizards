{
 "cells": [
  {
   "cell_type": "code",
   "execution_count": 10,
   "metadata": {},
   "outputs": [],
   "source": [
    "import cv2\n",
    "def divide_image_into_shreds(image_path, shred_width):\n",
    "    # Read the image\n",
    "    image = cv2.imread(image_path)\n",
    "\n",
    "    # Calculate the number of shreds\n",
    "    num_shreds = image.shape[1] // shred_width\n",
    "\n",
    "    # Create an empty list to store the shreds\n",
    "    shreds = []\n",
    "\n",
    "    # Divide the image into shreds\n",
    "    for i in range(num_shreds):\n",
    "        shred = image[:, i*shred_width:(i+1)*shred_width]\n",
    "        shreds.append(shred)\n",
    "\n",
    "    return np.array( shreds)\n",
    "\n",
    "# Example usage\n",
    "image_path = 'shredded.jpg'  # Replace with the path to your image\n",
    "shred_width = 64  # Width of each shred\n",
    "shreds = divide_image_into_shreds(image_path, shred_width)"
   ]
  },
  {
   "cell_type": "code",
   "execution_count": 11,
   "metadata": {},
   "outputs": [
    {
     "data": {
      "text/plain": [
       "(12, 1024, 64, 3)"
      ]
     },
     "execution_count": 11,
     "metadata": {},
     "output_type": "execute_result"
    }
   ],
   "source": [
    "shreds.shape"
   ]
  },
  {
   "cell_type": "code",
   "execution_count": 34,
   "metadata": {},
   "outputs": [
    {
     "name": "stdout",
     "output_type": "stream",
     "text": [
      "12\n"
     ]
    }
   ],
   "source": [
    "import cv2\n",
    "import numpy as np\n",
    "\n",
    "def split_image(image_path, piece_width):\n",
    "    image = cv2.imread(image_path)\n",
    "    image = cv2.cvtColor(image, cv2.COLOR_BGR2GRAY)\n",
    "    height, width= image.shape\n",
    "    num_pieces = width // piece_width\n",
    "    image_pieces = []\n",
    "    for i in range(num_pieces):\n",
    "        start_x = i * piece_width\n",
    "        end_x = start_x + piece_width\n",
    "        piece = image[:, start_x:end_x]\n",
    "        image_pieces.append(piece)\n",
    "    \n",
    "    return image_pieces\n",
    "\n",
    "image_path = \"shredded.jpg\"\n",
    "piece_width = 64\n",
    "\n",
    "pieces = split_image(image_path, piece_width)\n",
    "print(len(pieces))"
   ]
  },
  {
   "cell_type": "code",
   "execution_count": 33,
   "metadata": {},
   "outputs": [
    {
     "name": "stdout",
     "output_type": "stream",
     "text": [
      "41.84816460147742 67.65445354802921\n",
      "The image is not uniformly colored, indicating a possible vertical cut.\n"
     ]
    }
   ],
   "source": [
    "import cv2\n",
    "import numpy as np\n",
    "\n",
    "# Load the image\n",
    "image = cv2.imread('shredded.jpg', cv2.IMREAD_GRAYSCALE)\n",
    "\n",
    "# Calculate mean and standard deviation along rows and columns\n",
    "row_mean = np.mean(image, axis=1)\n",
    "row_stddev = np.std(image, axis=1)\n",
    "col_mean = np.mean(image, axis=0)\n",
    "col_stddev = np.std(image, axis=0)\n",
    "\n",
    "# Calculate the average row and column standard deviation\n",
    "avg_row_stddev = np.mean(row_stddev)\n",
    "avg_col_stddev = np.mean(col_stddev)\n",
    "\n",
    "# Set thresholds for detecting non-uniformity\n",
    "row_threshold = 10  # Adjust as needed\n",
    "col_threshold = 10  # Adjust as needed\n",
    "print(avg_row_stddev,avg_col_stddev)\n",
    "# Check for non-uniformity\n",
    "if avg_row_stddev > row_threshold or avg_col_stddev > col_threshold:\n",
    "    print(\"The image is not uniformly colored, indicating a possible vertical cut.\")\n",
    "else:\n",
    "    print(\"The image is uniformly colored.\")\n"
   ]
  },
  {
   "cell_type": "code",
   "execution_count": null,
   "metadata": {},
   "outputs": [],
   "source": [
    "42.28989044204602 68.1851302979759\n",
    "The image is not uniformly colored, indicating a possible vertical cut.\n",
    "(12, 1024, 64, 3)\n",
    "12"
   ]
  }
 ],
 "metadata": {
  "kernelspec": {
   "display_name": "Python 3",
   "language": "python",
   "name": "python3"
  },
  "language_info": {
   "codemirror_mode": {
    "name": "ipython",
    "version": 3
   },
   "file_extension": ".py",
   "mimetype": "text/x-python",
   "name": "python",
   "nbconvert_exporter": "python",
   "pygments_lexer": "ipython3",
   "version": "3.8.10"
  }
 },
 "nbformat": 4,
 "nbformat_minor": 2
}
